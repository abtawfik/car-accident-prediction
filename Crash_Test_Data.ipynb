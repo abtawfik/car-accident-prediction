{
 "cells": [
  {
   "cell_type": "code",
   "execution_count": null,
   "metadata": {},
   "outputs": [],
   "source": [
    "%load_ext autoreload\n",
    "%autoreload 2\n",
    "#%matplotlib notebook\n",
    "######################\n",
    "# Plotting libraries #\n",
    "######################\n",
    "#import matplotlib.pyplot as plt\n",
    "#import seaborn as sns\n",
    "\n",
    "###############\n",
    "# Computation #\n",
    "###############\n",
    "import pandas as pd\n",
    "import numpy as np\n",
    "from toolz.curried import curry, compose\n",
    "from sklearn.ensemble import RandomForestRegressor as RFR\n",
    "from sklearn.ensemble import RandomForestClassifier as RFC\n",
    "from sklearn.naive_bayes import CategoricalNB as CNB\n",
    "\n",
    "######################\n",
    "# Standard Libraries #\n",
    "######################\n",
    "from pathlib import Path\n",
    "\n",
    "####################\n",
    "# Internal package #\n",
    "####################\n",
    "from preproc import process_crash_report_data, encode_categorical_data\n",
    "from preproc import split_train_and_test, Categorical, calc_mse\n",
    "from preproc import read_crash_data\n",
    "from benchmarks import AlwaysMean"
   ]
  },
  {
   "cell_type": "markdown",
   "metadata": {},
   "source": [
    "## Define the parameters"
   ]
  },
  {
   "cell_type": "code",
   "execution_count": null,
   "metadata": {},
   "outputs": [],
   "source": [
    "input_file = Path('data/cpd-crash-incidents.csv')\n",
    "features = ['Road_Conditions', 'Light_Condition', 'Weather']\n",
    "target = 'Count'\n",
    "time_column = 'Crash_Date'\n",
    "crash_data = Categorical(input_file, features)\n",
    "Xtrain, Ytrain = crash_data.Xtrain, crash_data.Ytrain\n",
    "Xtest, Ytest   = crash_data.Xtest, crash_data.Ytest\n"
   ]
  },
  {
   "cell_type": "markdown",
   "metadata": {},
   "source": [
    "## Define a simple benchmark model"
   ]
  },
  {
   "cell_type": "code",
   "execution_count": null,
   "metadata": {},
   "outputs": [],
   "source": [
    "always_mean = AlwaysMean().fit(crash_data.Xtrain, crash_data.Ytrain)\n",
    "bench_pred  = always_mean.predict(crash_data.Xtest)\n",
    "bench_error = calc_mse(crash_data.Ytest, bench_pred)"
   ]
  },
  {
   "cell_type": "markdown",
   "metadata": {},
   "source": [
    "## Define a list of models to train as a first pass"
   ]
  },
  {
   "cell_type": "code",
   "execution_count": null,
   "metadata": {},
   "outputs": [],
   "source": [
    "\n",
    "names  = ['RandForestReg', 'RandForestClass', 'CatBayes']\n",
    "models = [RFR(), RFC(), CNB()]\n",
    "preds  = [m.fit(Xtrain, Ytrain).predict(Xtest) for m in models]\n",
    "errors = {name : calc_mse(Ytest, pred) \n",
    "          for name,pred in zip(names,preds) }\n",
    "\n"
   ]
  },
  {
   "cell_type": "markdown",
   "metadata": {},
   "source": [
    "## See if any of these models performed better than our benchmark"
   ]
  },
  {
   "cell_type": "code",
   "execution_count": null,
   "metadata": {},
   "outputs": [],
   "source": [
    "acceptable_models = {name : error for name,error in errors.items() \n",
    "                     if error < bench_error}\n",
    "acceptable_models"
   ]
  },
  {
   "cell_type": "code",
   "execution_count": null,
   "metadata": {},
   "outputs": [],
   "source": [
    "first_model = list(acceptable_models.keys())[0]\n",
    "good_enough_model = dict(zip(names, models)).get(first_model)"
   ]
  },
  {
   "cell_type": "markdown",
   "metadata": {},
   "source": [
    "## Save the model to be used for inference in the REST endpoint"
   ]
  },
  {
   "cell_type": "code",
   "execution_count": null,
   "metadata": {},
   "outputs": [],
   "source": [
    "import pickle\n",
    "filename = 'acceptable_model.sav'\n",
    "with open(filename, 'wb') as f:\n",
    "    pickle.dump(good_enough_model, f) "
   ]
  },
  {
   "cell_type": "markdown",
   "metadata": {},
   "source": [
    "## Save mapping metadata for use in the REST endpoint"
   ]
  },
  {
   "cell_type": "code",
   "execution_count": null,
   "metadata": {},
   "outputs": [],
   "source": [
    "filename = 'cat2code.pkl'\n",
    "with open(filename, 'wb') as f:\n",
    "    pickle.dump(crash_data.cat2code_map, f) \n",
    "    \n",
    "filename = 'code2cat.pkl'\n",
    "with open(filename, 'wb') as f:\n",
    "    pickle.dump(crash_data.code2cat_map, f) "
   ]
  },
  {
   "cell_type": "code",
   "execution_count": null,
   "metadata": {},
   "outputs": [],
   "source": []
  }
 ],
 "metadata": {
  "kernelspec": {
   "display_name": "Python 3",
   "language": "python",
   "name": "python3"
  },
  "language_info": {
   "codemirror_mode": {
    "name": "ipython",
    "version": 3
   },
   "file_extension": ".py",
   "mimetype": "text/x-python",
   "name": "python",
   "nbconvert_exporter": "python",
   "pygments_lexer": "ipython3",
   "version": "3.7.5"
  }
 },
 "nbformat": 4,
 "nbformat_minor": 4
}
